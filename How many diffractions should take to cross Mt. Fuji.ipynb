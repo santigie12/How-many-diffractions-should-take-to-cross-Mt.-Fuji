{
 "cells": [
  {
   "cell_type": "markdown",
   "metadata": {},
   "source": [
    "# Problem_1_Minimum number of folds over Mt. Fuji"
   ]
  },
  {
   "cell_type": "code",
   "execution_count": 1,
   "metadata": {},
   "outputs": [
    {
     "name": "stdout",
     "output_type": "stream",
     "text": [
      "Number of times of folds if exceeds Mt.Fuji is = 26\n"
     ]
    }
   ],
   "source": [
    "THICKNESS = 0.00008\n",
    "everest = 3776\n",
    "num = 43\n",
    "for n in range(100):\n",
    "    thickness = THICKNESS*2**n\n",
    "    if(thickness >= everest):\n",
    "        break\n",
    "print(\"Number of times of folds if exceeds Mt.Fuji is = {}\".format(n))"
   ]
  },
  {
   "cell_type": "markdown",
   "metadata": {},
   "source": [
    "# Problem_2_Creating a function corresponding to an arbitrary thickness"
   ]
  },
  {
   "cell_type": "code",
   "execution_count": 2,
   "metadata": {},
   "outputs": [],
   "source": [
    "def arbitrary_thickness(distance):\n",
    "    thickness = 0.00008\n",
    "    num = 43\n",
    "    while thickness <= distance:\n",
    "        thickness *= 2\n",
    "        num += 1\n",
    "    return num"
   ]
  },
  {
   "cell_type": "code",
   "execution_count": 3,
   "metadata": {},
   "outputs": [
    {
     "data": {
      "text/plain": [
       "69"
      ]
     },
     "execution_count": 3,
     "metadata": {},
     "output_type": "execute_result"
    }
   ],
   "source": [
    "arbitrary_thickness(everest)"
   ]
  },
  {
   "cell_type": "code",
   "execution_count": 23,
   "metadata": {},
   "outputs": [
    {
     "data": {
      "text/plain": [
       "63"
      ]
     },
     "execution_count": 23,
     "metadata": {},
     "output_type": "execute_result"
    }
   ],
   "source": [
    "arbitrary_thickness(num)"
   ]
  },
  {
   "cell_type": "markdown",
   "metadata": {},
   "source": [
    "# Problem_3_Required paper length"
   ]
  },
  {
   "cell_type": "code",
   "execution_count": 6,
   "metadata": {},
   "outputs": [
    {
     "data": {
      "text/plain": [
       "'The length of the paper to reach a thickness of 3776m is: 93319549630m'"
      ]
     },
     "execution_count": 6,
     "metadata": {},
     "output_type": "execute_result"
    }
   ],
   "source": [
    "import math\n",
    "def paper_length(distance):\n",
    "    THICKNESS = 0.00008\n",
    "    \n",
    "    num_of_bends = math.log2(distance/THICKNESS)\n",
    "    \n",
    "    length = (THICKNESS*math.pi/6)*(2**num_of_bends + 4)*(2**num_of_bends - 1)\n",
    "    \n",
    "    return f'The length of the paper to reach a thickness of {distance}m is: {round(length)}m'\n",
    "paper_length(3776)"
   ]
  },
  {
   "cell_type": "code",
   "execution_count": 15,
   "metadata": {},
   "outputs": [
    {
     "data": {
      "text/plain": [
       "'The length of the paper to reach a thickness of 43m is: 12101744m'"
      ]
     },
     "execution_count": 15,
     "metadata": {},
     "output_type": "execute_result"
    }
   ],
   "source": [
    "# Length of paper needed to reached the moon\n",
    "paper_length(num)"
   ]
  },
  {
   "cell_type": "code",
   "execution_count": 17,
   "metadata": {},
   "outputs": [
    {
     "data": {
      "text/plain": [
       "'The length of the paper to reach a thickness of 3776m is: 93319549630m'"
      ]
     },
     "execution_count": 17,
     "metadata": {},
     "output_type": "execute_result"
    }
   ],
   "source": [
    "# Length of paper needed to reached Mt.Fuji\n",
    "paper_length(3776)"
   ]
  },
  {
   "cell_type": "code",
   "execution_count": 22,
   "metadata": {},
   "outputs": [
    {
     "data": {
      "text/plain": [
       "'The length of the paper to reach a thickness of 8849m is: 512503737988m'"
      ]
     },
     "execution_count": 22,
     "metadata": {},
     "output_type": "execute_result"
    }
   ],
   "source": [
    "# Length of paper needed to reached Alpha centauri, closest star to the sun\n",
    "paper_length(8849)"
   ]
  }
 ],
 "metadata": {
  "kernelspec": {
   "display_name": "Python 3",
   "language": "python",
   "name": "python3"
  },
  "language_info": {
   "codemirror_mode": {
    "name": "ipython",
    "version": 3
   },
   "file_extension": ".py",
   "mimetype": "text/x-python",
   "name": "python",
   "nbconvert_exporter": "python",
   "pygments_lexer": "ipython3",
   "version": "3.8.5"
  }
 },
 "nbformat": 4,
 "nbformat_minor": 4
}
